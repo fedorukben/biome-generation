{
 "cells": [
  {
   "cell_type": "code",
   "execution_count": 210,
   "id": "0e3a39d1",
   "metadata": {},
   "outputs": [],
   "source": [
    "import random\n",
    "import numpy as np"
   ]
  },
  {
   "cell_type": "code",
   "execution_count": 211,
   "id": "0c6f6ecf",
   "metadata": {},
   "outputs": [],
   "source": [
    "DICT = {(0,0) : 'U', (0,1) : 'A', (0,2) : 'T', (0,3) : 'A',\n",
    "        (1,0) : 'C', (1,1) : 'G', (1,2) : 'F', (1,3) : 'G',\n",
    "        (2,0) : 'D', (2,1) : 'S', (2,2) : 'R', (2,3) : 'S',\n",
    "        (3,0) : 'C', (3,1) : 'G', (3,2) : 'F', (3,3) : 'G'}\n",
    "INV_DICT = {v: k for k, v in DICT.items()}\n",
    "\n",
    "WORLD_WIDTH = 30\n",
    "WORLD_LENGTH = 30\n",
    "SMOOTHNESS = 1\n",
    "# Smoothness is on a scale from 0 to 1, where 0 is not smooth and 1 is smooth"
   ]
  },
  {
   "cell_type": "code",
   "execution_count": 38,
   "id": "675d9dbc",
   "metadata": {},
   "outputs": [
    {
     "name": "stdout",
     "output_type": "stream",
     "text": [
      "U A T \n",
      "C G F \n",
      "D S R \n"
     ]
    }
   ],
   "source": [
    "for t in range(3):\n",
    "    for p in range(3):\n",
    "        print(DICT[(t,p)],end=\" \")\n",
    "    print()"
   ]
  },
  {
   "cell_type": "code",
   "execution_count": 43,
   "id": "aee36033",
   "metadata": {},
   "outputs": [],
   "source": [
    "biomes = np.empty(shape=(WORLD_WIDTH,WORLD_HEIGHT), dtype=str)\n",
    "temp = 1\n",
    "precip = 1\n",
    "for i in range(WORLD_WIDTH):\n",
    "    for j in range(WORLD_HEIGHT):\n",
    "        update_temp = 0\n",
    "        update_precip = 0\n",
    "        if random.randint(0,1):\n",
    "            update_temp = round(random.uniform(-1,1))\n",
    "        else:\n",
    "            update_precip = round(random.uniform(-1,1))\n",
    "        temp = (temp + update_temp) % 4\n",
    "        precip = (precip + update_precip) % 4\n",
    "        biomes[i,j] = DICT[(temp, precip)]"
   ]
  },
  {
   "cell_type": "code",
   "execution_count": 206,
   "id": "f591870a",
   "metadata": {},
   "outputs": [],
   "source": [
    "def get_adjacent_biomes(i, j, biomes):\n",
    "    adjacent_biomes = np.empty(shape=4, dtype=tuple)\n",
    "    if i > 0:\n",
    "        adjacent_biomes[0] = INV_DICT[biomes[i-1,j]] if biomes[i-1,j] != \"\" else None\n",
    "    if i < WORLD_WIDTH - 1:\n",
    "        adjacent_biomes[1] = INV_DICT[biomes[i+1,j]] if biomes[i+1,j] != \"\" else None\n",
    "    if j > 0:\n",
    "        adjacent_biomes[2] = INV_DICT[biomes[i,j-1]] if biomes[i,j-1] != \"\" else None\n",
    "    if j < WORLD_HEIGHT - 1:\n",
    "        adjacent_biomes[3] = INV_DICT[biomes[i,j+1]] if biomes[i,j+1] != \"\" else None\n",
    "    return adjacent_biomes\n",
    "        \n",
    "def print_map(biomes):\n",
    "    for x in range(WORLD_WIDTH):\n",
    "        for y in range(WORLD_HEIGHT):\n",
    "            print(biomes[x, y], end=\"\")\n",
    "        print()\n",
    "        \n",
    "def gen_unrestricted_biome():\n",
    "    temp = random.randint(0,3)\n",
    "    precip = random.randint(0,3)\n",
    "    return temp, precip\n",
    "\n",
    "def gen_restricted_biome(adjacent_biomes, weak=False):\n",
    "    biome_adjacent = np.random.choice(adjacent_biomes[adjacent_biomes != None])\n",
    "    if not weak and -1 * SMOOTHNESS < random.triangular(-1,1) < SMOOTHNESS:\n",
    "        return biome_adjacent\n",
    "    temp, precip = gen_unrestricted_biome()\n",
    "    while not is_biome_legal(temp, precip, adjacent_biomes, weak):\n",
    "        temp, precip = gen_unrestricted_biome()\n",
    "    return temp, precip\n",
    "    \n",
    "def is_biome_legal(temp, precip, adjacent_biomes, weak=False):\n",
    "    for biome in adjacent_biomes:\n",
    "        if not biome == None:\n",
    "            adjacent_temp, adjacent_precip = biome\n",
    "            if not weak:\n",
    "                if abs(adjacent_temp - temp) > 1:\n",
    "                    return False\n",
    "                else:\n",
    "                    if abs(adjacent_temp - temp) + abs(adjacent_precip - precip) == 2:\n",
    "                        return False\n",
    "            else:\n",
    "                if abs(adjacent_temp - temp) == 2 and abs(adjacent_precip - precip == 2):\n",
    "                    return False\n",
    "    return True\n",
    "\n",
    "def is_biome_possible(adjacent_biomes):\n",
    "    if np.all(adjacent_biomes == None):\n",
    "        return True\n",
    "    for temp in range(3):\n",
    "        for precip in range(3):\n",
    "            if is_biome_legal(temp, precip, adjacent_biomes):\n",
    "                return True\n",
    "    return False"
   ]
  },
  {
   "cell_type": "code",
   "execution_count": 208,
   "id": "edff0198",
   "metadata": {},
   "outputs": [
    {
     "name": "stdout",
     "output_type": "stream",
     "text": [
      "Map Generated Successfully. 189/900 weak biomes.\n",
      "DAAAAAFGGGGGGFTTGGSUUGDDCCGGFF\n",
      "DDAAAACUGGGGGSTAGGUCGGGDDDGGFF\n",
      "DDDATGGAGGGSGGTUFAAGGFFDDGGGGU\n",
      "RRAAAGGAFDGSSSGUUFAUTFFGGGGRTA\n",
      "RRUUARRAFAACSCFRAGAUSFGGGTGSTA\n",
      "RRUUGSRRGURCCCGAAFSGGSGGSTRCSS\n",
      "TTTTFSRRGDFFFFGAARRRRRRAFFCCCR\n",
      "TUUGGSRRGDFSFFFGSGCRGDRAFDUTGC\n",
      "AGCCCCFGGGFSFFFFCCCCRDDDDDDSFC\n",
      "ADGSSSSCGGGGFFFCCCCRRCDDGGGFFT\n",
      "TTTGSDDCGGGGSGCCCFFFSCCCGGGGRA\n",
      "GSRGSDDSSGCAAGCCCCFSSSCCSGGGFA\n",
      "CCCCSGGSGGFATGGCCCFDSUDDRRRCAA\n",
      "CCCCCGGFGGGAGGGDDRADUUDDRRRRAA\n",
      "CCSSAAAFFFDGGGGGDRSDTUDDRRRAAA\n",
      "CSSSTUUGRRRRDGGGRTSCCAAARRAAAA\n",
      "SGSTTUUUUUDDDGSTTTTFGSAARRAAAS\n",
      "SGGSSGGTFTRDDDDDRRTAGGFDRRCSSF\n",
      "SUSSSDGUCCRTTTDDFATAGCFCGGFFFF\n",
      "AASSDDGFCCGATRDDFAAATCCCGGGSFF\n",
      "AARRRDGGGGGDCRSSAGCGGGFGGGCSSF\n",
      "AARRRSADDSGGGTGGUCGGGAAGCCCCDD\n",
      "DGRRGGGSSSSGSSGGGGDGGUUGGCCCDD\n",
      "FFFDGGSSSGGGGDGGGRDDGUTGGCCDDD\n",
      "CFFGGGGCGGGDDDDGUTDDGGFGCCSSSD\n",
      "FCASGCGRGGDDDDDFUTDDRRSSCCFFGC\n",
      "FUAUCCFRGGDDRRGAAUUDDASSSGAATC\n",
      "FFFGGGGGGGGGRRGGRCCDGCSSTRRSSS\n",
      "FFGGGGSCGGGGGGGGGUAGGAAATTFFSS\n",
      "RGGGGSSSSGGCAFGGAAAGGCAAARCFSS\n"
     ]
    }
   ],
   "source": [
    "biomes = np.empty(shape=(WORLD_WIDTH,WORLD_HEIGHT), dtype=str)\n",
    "weak_counter = 0\n",
    "while np.any(biomes == \"\"):\n",
    "    i = random.randint(0, WORLD_WIDTH - 1)\n",
    "    j = random.randint(0, WORLD_HEIGHT - 1)\n",
    "    \n",
    "    if biomes[i,j] != \"\":\n",
    "        continue\n",
    "    adjacent_biomes = get_adjacent_biomes(i, j, biomes)\n",
    "    biome_adjacent = next((biome for biome in adjacent_biomes if biome is not None), None)\n",
    "    weak_counter += int(not is_biome_possible(adjacent_biomes))\n",
    "\n",
    "    temp, precip = gen_unrestricted_biome() if biome_adjacent == None else gen_restricted_biome(adjacent_biomes, weak=(not is_biome_possible(adjacent_biomes)))\n",
    "    biomes[i,j] = DICT[(temp, precip)]\n",
    "\n",
    "print(f\"Map Generated Successfully. {weak_counter}/{WORLD_WIDTH * WORLD_HEIGHT} weak biomes.\")\n",
    "print_map(biomes)"
   ]
  },
  {
   "cell_type": "code",
   "execution_count": null,
   "id": "0684923e",
   "metadata": {},
   "outputs": [],
   "source": []
  }
 ],
 "metadata": {
  "kernelspec": {
   "display_name": "Python 3 (ipykernel)",
   "language": "python",
   "name": "python3"
  },
  "language_info": {
   "codemirror_mode": {
    "name": "ipython",
    "version": 3
   },
   "file_extension": ".py",
   "mimetype": "text/x-python",
   "name": "python",
   "nbconvert_exporter": "python",
   "pygments_lexer": "ipython3",
   "version": "3.9.12"
  }
 },
 "nbformat": 4,
 "nbformat_minor": 5
}
